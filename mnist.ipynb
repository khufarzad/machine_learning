{
 "cells": [
  {
   "cell_type": "code",
   "execution_count": null,
   "metadata": {
    "id": "M5TghCDvGabp"
   },
   "outputs": [],
   "source": [
    "import numpy as np\n",
    "import pandas as pd\n",
    "import matplotlib.pyplot as plt"
   ]
  },
  {
   "cell_type": "code",
   "execution_count": null,
   "metadata": {
    "colab": {
     "base_uri": "https://localhost:8080/",
     "height": 52
    },
    "id": "lyNkjcDuGh--",
    "outputId": "10cc8e1c-b8e6-48d9-98cc-c84ccb2a8327"
   },
   "outputs": [
    {
     "name": "stdout",
     "output_type": "stream",
     "text": [
      "Colab only includes TensorFlow 2.x; %tensorflow_version has no effect.\n"
     ]
    },
    {
     "data": {
      "application/vnd.google.colaboratory.intrinsic+json": {
       "type": "string"
      },
      "text/plain": [
       "'2.15.0'"
      ]
     },
     "execution_count": 18,
     "metadata": {},
     "output_type": "execute_result"
    }
   ],
   "source": [
    "%tensorflow_version 2.x\n",
    "import tensorflow\n",
    "tensorflow.__version__"
   ]
  },
  {
   "cell_type": "code",
   "execution_count": null,
   "metadata": {
    "id": "nq0bzyc8Goqt"
   },
   "outputs": [],
   "source": [
    "from tensorflow.keras.datasets import mnist\n",
    "\n",
    "(x_train, y_train), (x_test, y_test) = mnist.load_data()"
   ]
  },
  {
   "cell_type": "code",
   "execution_count": null,
   "metadata": {
    "colab": {
     "base_uri": "https://localhost:8080/",
     "height": 52
    },
    "id": "ionG1kgUHNDZ",
    "outputId": "d26290a7-2ee1-447d-e262-351686c5d328"
   },
   "outputs": [
    {
     "data": {
      "application/vnd.google.colaboratory.intrinsic+json": {
       "type": "string"
      },
      "text/plain": [
       "\"\\nmnist = np.load('mnist.npz')\\nx_train = mnist['x_train']\\ny_train = mnist['y_train']\\nx_test = mnist['x_test']\\ny_test = mnist['y_test']\\n\""
      ]
     },
     "execution_count": 20,
     "metadata": {},
     "output_type": "execute_result"
    }
   ],
   "source": [
    "'''\n",
    "mnist = np.load('mnist.npz')\n",
    "x_train = mnist['x_train']\n",
    "y_train = mnist['y_train']\n",
    "x_test = mnist['x_test']\n",
    "y_test = mnist['y_test']\n",
    "'''"
   ]
  },
  {
   "cell_type": "code",
   "execution_count": null,
   "metadata": {
    "colab": {
     "base_uri": "https://localhost:8080/",
     "height": 452
    },
    "id": "qL5GwU2gIKaO",
    "outputId": "9b4480c5-bf1f-4fe6-d60e-1f25d8c2e531"
   },
   "outputs": [
    {
     "data": {
      "image/png": "[encoded data removed]",
      "text/plain": [
       "<Figure size 640x480 with 1 Axes>"
      ]
     },
     "metadata": {},
     "output_type": "display_data"
    }
   ],
   "source": [
    "index = 7245\n",
    "plt.title(f'Label: {y_train[index]}')\n",
    "plt.imshow(x_train[index], cmap='gray')\n",
    "plt.show()"
   ]
  },
  {
   "cell_type": "code",
   "execution_count": null,
   "metadata": {
    "colab": {
     "base_uri": "https://localhost:8080/"
    },
    "id": "wC83-Z4xILHU",
    "outputId": "7ba0abeb-9ddc-4b3c-9dd8-fbd1f3813200"
   },
   "outputs": [
    {
     "name": "stdout",
     "output_type": "stream",
     "text": [
      "(60000, 28, 28)\n",
      "(60000,)\n",
      "(10000, 28, 28)\n",
      "(10000,)\n"
     ]
    }
   ],
   "source": [
    "print(x_train.shape)\n",
    "print(y_train.shape)\n",
    "print(x_test.shape)\n",
    "print(y_test.shape)"
   ]
  },
  {
   "cell_type": "code",
   "execution_count": null,
   "metadata": {
    "colab": {
     "base_uri": "https://localhost:8080/"
    },
    "id": "nhhvIjsbILRz",
    "outputId": "69b7690a-5754-4a4b-f9f2-6307c69b573e"
   },
   "outputs": [
    {
     "data": {
      "text/plain": [
       "0"
      ]
     },
     "execution_count": 37,
     "metadata": {},
     "output_type": "execute_result"
    }
   ],
   "source": [
    "y_test[10]"
   ]
  },
  {
   "cell_type": "code",
   "execution_count": null,
   "metadata": {
    "id": "zOaXqvsNILdI"
   },
   "outputs": [],
   "source": [
    "x_train = x_train.reshape(x_train.shape[0], 28, 28, 1)\n",
    "x_test = x_test.reshape(x_test.shape[0], 28, 28, 1)"
   ]
  },
  {
   "cell_type": "code",
   "execution_count": null,
   "metadata": {
    "colab": {
     "base_uri": "https://localhost:8080/"
    },
    "id": "yzBSRkCUILhn",
    "outputId": "22b7569e-e389-424f-e914-b03281245709"
   },
   "outputs": [
    {
     "data": {
      "text/plain": [
       "(60000, 28, 28, 1)"
      ]
     },
     "execution_count": 26,
     "metadata": {},
     "output_type": "execute_result"
    }
   ],
   "source": [
    "x_train.shape"
   ]
  },
  {
   "cell_type": "code",
   "execution_count": null,
   "metadata": {
    "id": "BeZyPTSZLrR-"
   },
   "outputs": [],
   "source": [
    "x_train = x_train.astype('float32')\n",
    "x_test = x_test.astype('float32')\n",
    "\n",
    "x_train /= 255\n",
    "x_test /= 255"
   ]
  },
  {
   "cell_type": "code",
   "execution_count": null,
   "metadata": {
    "colab": {
     "base_uri": "https://localhost:8080/"
    },
    "id": "VmJIeQtTMeEH",
    "outputId": "1c6cd6ca-cce5-4bf1-baac-b54d3fdc1b7e"
   },
   "outputs": [
    {
     "name": "stdout",
     "output_type": "stream",
     "text": [
      "Train Shape: (60000, 28, 28, 1)\n",
      "Test Shape: (10000, 28, 28, 1)\n",
      "Images in Train: 60000\n",
      "Images in Test: 10000\n",
      "Max Value in Train: 1.0\n",
      "Min Value in Train: 0.0\n"
     ]
    }
   ],
   "source": [
    "print('Train Shape:', x_train.shape)\n",
    "print('Test Shape:', x_test.shape)\n",
    "print('Images in Train:', x_train.shape[0])\n",
    "print('Images in Test:', x_test.shape[0])\n",
    "print('Max Value in Train:', x_train.max())\n",
    "print('Min Value in Train:', x_train.min())"
   ]
  },
  {
   "cell_type": "code",
   "execution_count": null,
   "metadata": {
    "colab": {
     "base_uri": "https://localhost:8080/"
    },
    "id": "Wst9dSevl5Kg",
    "outputId": "bb6ec04e-a019-44a3-b1c4-01c5462e2904"
   },
   "outputs": [
    {
     "name": "stdout",
     "output_type": "stream",
     "text": [
      "y_train[10]: 3\n",
      "y_train_cat[10]: [0. 0. 0. 1. 0. 0. 0. 0. 0. 0.]\n"
     ]
    }
   ],
   "source": [
    "from tensorflow.keras.utils import to_categorical\n",
    "\n",
    "y_train_cat = to_categorical(y_train, num_classes=10)\n",
    "y_test_cat = to_categorical(y_test, num_classes=10)\n",
    "\n",
    "print('y_train[10]:', y_train[10])\n",
    "print('y_train_cat[10]:', y_train_cat[10])"
   ]
  },
  {
   "cell_type": "code",
   "execution_count": null,
   "metadata": {
    "id": "GJJQa0kdmAHs"
   },
   "outputs": [],
   "source": [
    "from tensorflow.keras.models import Sequential\n",
    "from tensorflow.keras.layers import Dense, Conv2D, Flatten"
   ]
  },
  {
   "cell_type": "code",
   "execution_count": null,
   "metadata": {
    "id": "DqookAbFounD"
   },
   "outputs": [],
   "source": [
    "model = Sequential()\n",
    "\n",
    "model.add(Conv2D(filters=32, kernel_size=3,\n",
    "                 activation='relu', input_shape=(28, 28, 1)))\n",
    "\n",
    "model.add(Conv2D(filters=32, kernel_size=3,\n",
    "                 activation='relu'))\n",
    "\n",
    "model.add(Flatten())\n",
    "\n",
    "model.add(Dense(128, activation='relu'))\n",
    "model.add(Dense(10, activation='softmax'))"
   ]
  },
  {
   "cell_type": "code",
   "execution_count": null,
   "metadata": {
    "colab": {
     "base_uri": "https://localhost:8080/"
    },
    "id": "ZcboabFPqZI6",
    "outputId": "ee7e85fb-0ad8-42d8-8bf5-ae2f8e75f072"
   },
   "outputs": [
    {
     "name": "stdout",
     "output_type": "stream",
     "text": [
      "Epoch 1/15\n",
      "1313/1313 [==============================] - 114s 86ms/step - loss: 0.1316 - accuracy: 0.9601 - val_loss: 0.0713 - val_accuracy: 0.9776\n",
      "Epoch 2/15\n",
      "1313/1313 [==============================] - 113s 86ms/step - loss: 0.0409 - accuracy: 0.9873 - val_loss: 0.0532 - val_accuracy: 0.9835\n",
      "Epoch 3/15\n",
      "1313/1313 [==============================] - 113s 86ms/step - loss: 0.0222 - accuracy: 0.9925 - val_loss: 0.0642 - val_accuracy: 0.9839\n",
      "Epoch 4/15\n",
      "1313/1313 [==============================] - 114s 87ms/step - loss: 0.0150 - accuracy: 0.9950 - val_loss: 0.0793 - val_accuracy: 0.9818\n",
      "Epoch 5/15\n",
      "1313/1313 [==============================] - 112s 85ms/step - loss: 0.0122 - accuracy: 0.9960 - val_loss: 0.0596 - val_accuracy: 0.9854\n",
      "Epoch 6/15\n",
      "1313/1313 [==============================] - 113s 86ms/step - loss: 0.0078 - accuracy: 0.9973 - val_loss: 0.0840 - val_accuracy: 0.9847\n",
      "Epoch 7/15\n",
      "1313/1313 [==============================] - 110s 84ms/step - loss: 0.0079 - accuracy: 0.9976 - val_loss: 0.0714 - val_accuracy: 0.9868\n",
      "Epoch 8/15\n",
      "1313/1313 [==============================] - 112s 85ms/step - loss: 0.0057 - accuracy: 0.9982 - val_loss: 0.0968 - val_accuracy: 0.9833\n",
      "Epoch 9/15\n",
      "1313/1313 [==============================] - 112s 85ms/step - loss: 0.0073 - accuracy: 0.9975 - val_loss: 0.0756 - val_accuracy: 0.9856\n",
      "Epoch 10/15\n",
      "1313/1313 [==============================] - 116s 88ms/step - loss: 0.0042 - accuracy: 0.9986 - val_loss: 0.0852 - val_accuracy: 0.9853\n",
      "Epoch 11/15\n",
      "1313/1313 [==============================] - 123s 94ms/step - loss: 0.0045 - accuracy: 0.9984 - val_loss: 0.0889 - val_accuracy: 0.9859\n",
      "Epoch 12/15\n",
      "1313/1313 [==============================] - 122s 93ms/step - loss: 0.0025 - accuracy: 0.9992 - val_loss: 0.0838 - val_accuracy: 0.9873\n",
      "Epoch 13/15\n",
      "1313/1313 [==============================] - 125s 95ms/step - loss: 0.0064 - accuracy: 0.9979 - val_loss: 0.0899 - val_accuracy: 0.9868\n",
      "Epoch 14/15\n",
      "1313/1313 [==============================] - 125s 95ms/step - loss: 0.0025 - accuracy: 0.9994 - val_loss: 0.0972 - val_accuracy: 0.9852\n",
      "Epoch 15/15\n",
      "1313/1313 [==============================] - 114s 87ms/step - loss: 0.0034 - accuracy: 0.9990 - val_loss: 0.1095 - val_accuracy: 0.9841\n"
     ]
    },
    {
     "data": {
      "text/plain": [
       "<keras.src.callbacks.History at 0x7b649d16b6a0>"
      ]
     },
     "execution_count": 40,
     "metadata": {},
     "output_type": "execute_result"
    }
   ],
   "source": [
    "model.compile(loss='categorical_crossentropy',\n",
    "              metrics=['accuracy'], optimizer='adam')\n",
    "model.fit(x=x_train, y=y_train_cat,\n",
    "          batch_size=32, epochs=15, validation_split=0.3)"
   ]
  },
  {
   "cell_type": "code",
   "execution_count": null,
   "metadata": {
    "colab": {
     "base_uri": "https://localhost:8080/"
    },
    "id": "rdwpW8-RxN9I",
    "outputId": "9316e89c-e61a-4f26-bfbd-5cab858fdd56"
   },
   "outputs": [
    {
     "name": "stdout",
     "output_type": "stream",
     "text": [
      "313/313 [==============================] - 5s 15ms/step - loss: 0.0852 - accuracy: 0.9864\n"
     ]
    },
    {
     "data": {
      "text/plain": [
       "[0.08520010113716125, 0.9864000082015991]"
      ]
     },
     "execution_count": 41,
     "metadata": {},
     "output_type": "execute_result"
    }
   ],
   "source": [
    "model.evaluate(x_test, y_test_cat)"
   ]
  },
  {
   "cell_type": "code",
   "execution_count": null,
   "metadata": {
    "id": "GFwTk9uhxvlL"
   },
   "outputs": [],
   "source": [
    "from tensorflow.keras.models import Sequential\n",
    "from tensorflow.keras.layers import Conv2D, Dropout, MaxPooling2D, Dense\n",
    "\n",
    "model2 = Sequential()\n",
    "\n",
    "model2.add(Conv2D(filters=32, kernel_size=3, activation='relu',\n",
    "          input_shape=(28, 28, 1)))\n",
    "\n",
    "model2.add(Conv2D(filters=32, kernel_size=3, activation='relu'))\n",
    "\n",
    "model2.add(MaxPooling2D(pool_size=(2, 2)))\n",
    "\n",
    "model2.add(Dropout(rate=0.2))\n",
    "\n",
    "model2.add(Flatten())\n",
    "\n",
    "model2.add(Dense(128, activation='relu'))\n",
    "\n",
    "model2.add(Dense(10, activation='softmax'))"
   ]
  },
  {
   "cell_type": "code",
   "execution_count": null,
   "metadata": {
    "colab": {
     "base_uri": "https://localhost:8080/"
    },
    "id": "DdG4iMxQzbXV",
    "outputId": "dbd3ace7-bf5a-45db-a6f9-c6d22dc134ae"
   },
   "outputs": [
    {
     "name": "stdout",
     "output_type": "stream",
     "text": [
      "Epoch 1/15\n",
      "1875/1875 [==============================] - 135s 71ms/step - loss: 0.0855 - accuracy: 0.9740 - val_loss: 0.0492 - val_accuracy: 0.9838\n",
      "Epoch 2/15\n",
      "1875/1875 [==============================] - 127s 68ms/step - loss: 0.0390 - accuracy: 0.9874 - val_loss: 0.0447 - val_accuracy: 0.9858\n",
      "Epoch 3/15\n",
      "1875/1875 [==============================] - 113s 60ms/step - loss: 0.0273 - accuracy: 0.9912 - val_loss: 0.0574 - val_accuracy: 0.9805\n"
     ]
    },
    {
     "data": {
      "text/plain": [
       "<keras.src.callbacks.History at 0x7b649fb42cb0>"
      ]
     },
     "execution_count": 45,
     "metadata": {},
     "output_type": "execute_result"
    }
   ],
   "source": [
    "model2.compile(loss='categorical_crossentropy',\n",
    "              metrics=['accuracy'], optimizer='adam')\n",
    "\n",
    "callback = tensorflow.keras.callbacks.EarlyStopping(\n",
    "    monitor='val_accuracy',\n",
    "    min_delta=0.01,\n",
    "    patience=2\n",
    ")\n",
    "\n",
    "model2.fit(x=x_train, y=y_train_cat,\n",
    "          batch_size=32, epochs=15,\n",
    "          validation_data=(x_test, y_test_cat),\n",
    "          callbacks=[callback])"
   ]
  },
  {
   "cell_type": "code",
   "execution_count": null,
   "metadata": {
    "colab": {
     "base_uri": "https://localhost:8080/"
    },
    "id": "V7N4TNfg0nbk",
    "outputId": "aad54bfa-f86f-405e-a9f8-07366463a58f"
   },
   "outputs": [
    {
     "name": "stdout",
     "output_type": "stream",
     "text": [
      "313/313 [==============================] - 4s 13ms/step - loss: 0.0574 - accuracy: 0.9805\n"
     ]
    },
    {
     "data": {
      "text/plain": [
       "[0.057373955845832825, 0.9804999828338623]"
      ]
     },
     "execution_count": 46,
     "metadata": {},
     "output_type": "execute_result"
    }
   ],
   "source": [
    "model2.evaluate(x_test, y_test_cat)"
   ]
  },
  {
   "cell_type": "code",
   "execution_count": null,
   "metadata": {
    "colab": {
     "base_uri": "https://localhost:8080/",
     "height": 504
    },
    "id": "Tw5sh30T2TXp",
    "outputId": "613d6bf2-7b11-4f82-d273-f490ca135951"
   },
   "outputs": [
    {
     "name": "stdout",
     "output_type": "stream",
     "text": [
      "1/1 [==============================] - 0s 23ms/step\n",
      "y_test[32]: 3\n",
      "y_test_cat[32]: [0. 0. 0. 1. 0. 0. 0. 0. 0. 0.]\n"
     ]
    },
    {
     "data": {
      "image/png": "[encoded data removed]",
      "text/plain": [
       "<Figure size 640x480 with 1 Axes>"
      ]
     },
     "metadata": {},
     "output_type": "display_data"
    }
   ],
   "source": [
    "plt.imshow(x_test[32].reshape(28, 28), cmap='gray')\n",
    "y_pred = model.predict(x_test[32].reshape(1, 28, 28, 1))\n",
    "print('y_test[32]:', y_test[32])\n",
    "print('y_test_cat[32]:', y_test_cat[32])\n",
    "plt.title(f'Predicted Label: {y_pred.argmax()}')\n",
    "plt.show()"
   ]
  }
 ],
 "metadata": {
  "colab": {
   "provenance": []
  },
  "kernelspec": {
   "display_name": "Python 3 (ipykernel)",
   "language": "python",
   "name": "python3"
  },
  "language_info": {
   "codemirror_mode": {
    "name": "ipython",
    "version": 3
   },
   "file_extension": ".py",
   "mimetype": "text/x-python",
   "name": "python",
   "nbconvert_exporter": "python",
   "pygments_lexer": "ipython3",
   "version": "3.12.0"
  }
 },
 "nbformat": 4,
 "nbformat_minor": 4
}
